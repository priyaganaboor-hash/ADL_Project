{
  "nbformat": 4,
  "nbformat_minor": 0,
  "metadata": {
    "colab": {
      "name": "ADL_Project_32915.ipynb",
      "provenance": [],
      "collapsed_sections": []
    },
    "kernelspec": {
      "name": "python3",
      "display_name": "Python 3"
    },
    "accelerator": "GPU",
    "widgets": {
      "application/vnd.jupyter.widget-state+json": {
        "e97a79b0040b4f03885d0cc5fef70fb7": {
          "model_module": "@jupyter-widgets/controls",
          "model_name": "HBoxModel",
          "state": {
            "_view_name": "HBoxView",
            "_dom_classes": [],
            "_model_name": "HBoxModel",
            "_view_module": "@jupyter-widgets/controls",
            "_model_module_version": "1.5.0",
            "_view_count": null,
            "_view_module_version": "1.5.0",
            "box_style": "",
            "layout": "IPY_MODEL_2590ad6c9e40478d9cf816a6436d97cb",
            "_model_module": "@jupyter-widgets/controls",
            "children": [
              "IPY_MODEL_80f4176476f745589c0f015f7d155413",
              "IPY_MODEL_1ce6b77c2d084a15a636aa8ec22140f1"
            ]
          }
        },
        "2590ad6c9e40478d9cf816a6436d97cb": {
          "model_module": "@jupyter-widgets/base",
          "model_name": "LayoutModel",
          "state": {
            "_view_name": "LayoutView",
            "grid_template_rows": null,
            "right": null,
            "justify_content": null,
            "_view_module": "@jupyter-widgets/base",
            "overflow": null,
            "_model_module_version": "1.2.0",
            "_view_count": null,
            "flex_flow": null,
            "width": null,
            "min_width": null,
            "border": null,
            "align_items": null,
            "bottom": null,
            "_model_module": "@jupyter-widgets/base",
            "top": null,
            "grid_column": null,
            "overflow_y": null,
            "overflow_x": null,
            "grid_auto_flow": null,
            "grid_area": null,
            "grid_template_columns": null,
            "flex": null,
            "_model_name": "LayoutModel",
            "justify_items": null,
            "grid_row": null,
            "max_height": null,
            "align_content": null,
            "visibility": null,
            "align_self": null,
            "height": null,
            "min_height": null,
            "padding": null,
            "grid_auto_rows": null,
            "grid_gap": null,
            "max_width": null,
            "order": null,
            "_view_module_version": "1.2.0",
            "grid_template_areas": null,
            "object_position": null,
            "object_fit": null,
            "grid_auto_columns": null,
            "margin": null,
            "display": null,
            "left": null
          }
        },
        "80f4176476f745589c0f015f7d155413": {
          "model_module": "@jupyter-widgets/controls",
          "model_name": "FloatProgressModel",
          "state": {
            "_view_name": "ProgressView",
            "style": "IPY_MODEL_b6b5f17bb0b34818877f897f186a20ae",
            "_dom_classes": [],
            "description": "100%",
            "_model_name": "FloatProgressModel",
            "bar_style": "success",
            "max": 553433881,
            "_view_module": "@jupyter-widgets/controls",
            "_model_module_version": "1.5.0",
            "value": 553433881,
            "_view_count": null,
            "_view_module_version": "1.5.0",
            "orientation": "horizontal",
            "min": 0,
            "description_tooltip": null,
            "_model_module": "@jupyter-widgets/controls",
            "layout": "IPY_MODEL_28d72fde7a7243d2855890886ed91f6a"
          }
        },
        "1ce6b77c2d084a15a636aa8ec22140f1": {
          "model_module": "@jupyter-widgets/controls",
          "model_name": "HTMLModel",
          "state": {
            "_view_name": "HTMLView",
            "style": "IPY_MODEL_29cdfabe37f14040a3ca84732dd721c8",
            "_dom_classes": [],
            "description": "",
            "_model_name": "HTMLModel",
            "placeholder": "​",
            "_view_module": "@jupyter-widgets/controls",
            "_model_module_version": "1.5.0",
            "value": " 528M/528M [02:54&lt;00:00, 3.17MB/s]",
            "_view_count": null,
            "_view_module_version": "1.5.0",
            "description_tooltip": null,
            "_model_module": "@jupyter-widgets/controls",
            "layout": "IPY_MODEL_2a972f68bb6745f0bee69ff4599f432f"
          }
        },
        "b6b5f17bb0b34818877f897f186a20ae": {
          "model_module": "@jupyter-widgets/controls",
          "model_name": "ProgressStyleModel",
          "state": {
            "_view_name": "StyleView",
            "_model_name": "ProgressStyleModel",
            "description_width": "initial",
            "_view_module": "@jupyter-widgets/base",
            "_model_module_version": "1.5.0",
            "_view_count": null,
            "_view_module_version": "1.2.0",
            "bar_color": null,
            "_model_module": "@jupyter-widgets/controls"
          }
        },
        "28d72fde7a7243d2855890886ed91f6a": {
          "model_module": "@jupyter-widgets/base",
          "model_name": "LayoutModel",
          "state": {
            "_view_name": "LayoutView",
            "grid_template_rows": null,
            "right": null,
            "justify_content": null,
            "_view_module": "@jupyter-widgets/base",
            "overflow": null,
            "_model_module_version": "1.2.0",
            "_view_count": null,
            "flex_flow": null,
            "width": null,
            "min_width": null,
            "border": null,
            "align_items": null,
            "bottom": null,
            "_model_module": "@jupyter-widgets/base",
            "top": null,
            "grid_column": null,
            "overflow_y": null,
            "overflow_x": null,
            "grid_auto_flow": null,
            "grid_area": null,
            "grid_template_columns": null,
            "flex": null,
            "_model_name": "LayoutModel",
            "justify_items": null,
            "grid_row": null,
            "max_height": null,
            "align_content": null,
            "visibility": null,
            "align_self": null,
            "height": null,
            "min_height": null,
            "padding": null,
            "grid_auto_rows": null,
            "grid_gap": null,
            "max_width": null,
            "order": null,
            "_view_module_version": "1.2.0",
            "grid_template_areas": null,
            "object_position": null,
            "object_fit": null,
            "grid_auto_columns": null,
            "margin": null,
            "display": null,
            "left": null
          }
        },
        "29cdfabe37f14040a3ca84732dd721c8": {
          "model_module": "@jupyter-widgets/controls",
          "model_name": "DescriptionStyleModel",
          "state": {
            "_view_name": "StyleView",
            "_model_name": "DescriptionStyleModel",
            "description_width": "",
            "_view_module": "@jupyter-widgets/base",
            "_model_module_version": "1.5.0",
            "_view_count": null,
            "_view_module_version": "1.2.0",
            "_model_module": "@jupyter-widgets/controls"
          }
        },
        "2a972f68bb6745f0bee69ff4599f432f": {
          "model_module": "@jupyter-widgets/base",
          "model_name": "LayoutModel",
          "state": {
            "_view_name": "LayoutView",
            "grid_template_rows": null,
            "right": null,
            "justify_content": null,
            "_view_module": "@jupyter-widgets/base",
            "overflow": null,
            "_model_module_version": "1.2.0",
            "_view_count": null,
            "flex_flow": null,
            "width": null,
            "min_width": null,
            "border": null,
            "align_items": null,
            "bottom": null,
            "_model_module": "@jupyter-widgets/base",
            "top": null,
            "grid_column": null,
            "overflow_y": null,
            "overflow_x": null,
            "grid_auto_flow": null,
            "grid_area": null,
            "grid_template_columns": null,
            "flex": null,
            "_model_name": "LayoutModel",
            "justify_items": null,
            "grid_row": null,
            "max_height": null,
            "align_content": null,
            "visibility": null,
            "align_self": null,
            "height": null,
            "min_height": null,
            "padding": null,
            "grid_auto_rows": null,
            "grid_gap": null,
            "max_width": null,
            "order": null,
            "_view_module_version": "1.2.0",
            "grid_template_areas": null,
            "object_position": null,
            "object_fit": null,
            "grid_auto_columns": null,
            "margin": null,
            "display": null,
            "left": null
          }
        }
      }
    }
  },
  "cells": [
    {
      "cell_type": "markdown",
      "metadata": {
        "id": "-xFVB4byCRaO"
      },
      "source": [
        "## Honey Bee Classification Model\r\n",
        "\r\n",
        "## Contents:\r\n",
        "\r\n",
        "\r\n",
        "1.   Introduction\r\n",
        "2.   Dataset\r\n",
        "3.   Data Augumentation\r\n",
        "4.   Transfer Learning\r\n",
        "5.   Training, Validating and Testing Model.\r\n",
        "6.   Evaluation\r\n",
        "7.   Conclusion\r\n",
        "\r\n",
        "\r\n",
        "\r\n",
        " # 1. Introduction:\r\n",
        " \r\n",
        "Most the food that we eat today relies on pollination by bees. Honey bees have varieties of subspecies. The differences across these species can lead to differences in  temperament, disease resistance, productivity, color. So it is neccessry to identify different classes of subspecies.In this notebook, The honey bee classfication model is implemented using pytorch framework.  \r\n",
        "\r\n",
        "# 2. Dataset\r\n",
        "To solve this task, I am using - The BeeImage Dataset: Annotated Honey Bee Images is the \r\n",
        " <a href=\"https://www.kaggle.com/jenny18/honey-bee-annotated-images\" target=\"_blank\">dataset</a> \r\n",
        "which contains 5,100 odd bee images with columns location, date, time, subspecies, health condition, caste, and pollen.To begin with dataset, I divided the 5k images into 3 subspecies category namely Italian honey bee, Carniolan honey bee, Russian honey bee using the dataset csv file. So basically this model classifys into the above mentioned 3 subspecies. The best evaluation for classification model is obtained when the dataset is balanced. So I have made sure a balanced dataset while dividing into sub categories.\r\n",
        "\r\n"
      ]
    },
    {
      "cell_type": "code",
      "metadata": {
        "id": "rjKF8OoWBStZ"
      },
      "source": [
        "# importing csv module \r\n",
        "import csv \r\n",
        "import os\r\n",
        "import glob\r\n",
        "import numpy as np\r\n",
        "from PIL import Image\r\n",
        "import shutil\r\n",
        "# csv file name \r\n",
        "filename = \"bee_data.csv\"\r\n",
        "  \r\n",
        "# initializing the titles and rows list \r\n",
        "fields = [] \r\n",
        "rows = [] \r\n",
        "i=j=k=l=m=0\r\n",
        "\r\n",
        "def copy_into_train_folders(class_name,img_name):\r\n",
        " \r\n",
        "    path =  'bee_imgs/'+img_name\r\n",
        "    outpath = 'bees_dataset/train/'+class_name\r\n",
        "    shutil.copy(path, outpath)\r\n",
        "\r\n",
        "def copy_into_test_folders(class_name,img_name):\r\n",
        " \r\n",
        "    path =  'bee_imgs/'+img_name\r\n",
        "    outpath = 'bees_dataset/test/'+class_name\r\n",
        "    shutil.copy(path, outpath)\r\n",
        "\r\n",
        "def copy_into_val_folders(class_name,img_name):\r\n",
        " \r\n",
        "    path =  'bee_imgs/'+img_name\r\n",
        "    outpath = 'bees_dataset/validation/'+class_name\r\n",
        "    shutil.copy(path, outpath)        \r\n",
        "    \r\n",
        "    \r\n",
        "# reading csv file \r\n",
        "with open(filename, 'r') as csvfile: \r\n",
        "    # creating a csv reader object \r\n",
        "    csvreader = csv.reader(csvfile,delimiter = ',') \r\n",
        "      \r\n",
        "    \r\n",
        "    fields = next(csvreader) \r\n",
        "    for col in csvreader:\r\n",
        "        if   col[5] == 'Italian honey bee':\r\n",
        "            if i < 40:\r\n",
        "              copy_into_test_folders('Italian_honey_bee',col[0])  \r\n",
        "              i = i+1\r\n",
        "            elif 40<i<60 : \r\n",
        "              copy_into_val_folders('Italian_honey_bee',col[0]) \r\n",
        "              i=i+1\r\n",
        "            elif i<500: \r\n",
        "              copy_into_train_folders('Italian_honey_bee',col[0]) \r\n",
        "              i=i+1    \r\n",
        "        elif col[5] == 'Carniolan honey bee':\r\n",
        "              if k < 40:\r\n",
        "                copy_into_test_folders('Carniolan_honey_bee',col[0])  \r\n",
        "                k = k+1\r\n",
        "              elif 40<k<60 : \r\n",
        "                copy_into_val_folders('Carniolan_honey_bee',col[0]) \r\n",
        "                k=k+1\r\n",
        "              else: \r\n",
        "                copy_into_train_folders('Carniolan_honey_bee',col[0]) \r\n",
        "                k=k+1 \r\n",
        "          \r\n",
        "        elif col[5] == 'Russian honey bee':\r\n",
        "            if l < 40:\r\n",
        "                copy_into_test_folders('Russian_honey_bee',col[0])  \r\n",
        "                l = l+1\r\n",
        "            elif 40<l<60 : \r\n",
        "                  copy_into_val_folders('Russian_honey_bee',col[0]) \r\n",
        "                  l=l+1\r\n",
        "            else: \r\n",
        "                  copy_into_train_folders('Russian_honey_bee',col[0]) \r\n",
        "                  l=l+1  \r\n",
        "        else:\r\n",
        "              continue         "
      ],
      "execution_count": 1,
      "outputs": []
    },
    {
      "cell_type": "markdown",
      "metadata": {
        "id": "5_EV5oyT3Nqo"
      },
      "source": [
        "\r\n",
        "\r\n",
        "Below are the neccessary imports and dependencies.\r\n",
        "\r\n",
        "1.   !pip install torch\r\n",
        "2.   !pip install torchvision\r\n",
        "3.   !pip install numpy\r\n",
        "4.   !pip install pandas\r\n",
        "5.   !pip install matplotlib\r\n",
        "6.   !pip install seaborn\r\n",
        "\r\n",
        "\r\n",
        "\r\n"
      ]
    },
    {
      "cell_type": "code",
      "metadata": {
        "id": "DyrlsEu-fjN7"
      },
      "source": [
        "# Imports here\r\n",
        "import numpy as np\r\n",
        "import matplotlib.pyplot as plt\r\n",
        "import seaborn as sb\r\n",
        "import cv2\r\n",
        "import json\r\n",
        "\r\n",
        "import torch\r\n",
        "from torch import nn\r\n",
        "from torch import optim\r\n",
        "import torch.nn.functional as F\r\n",
        "import torchvision\r\n",
        "from torchvision import datasets, transforms, models"
      ],
      "execution_count": 2,
      "outputs": []
    },
    {
      "cell_type": "code",
      "metadata": {
        "id": "hYyLzXywUHcb"
      },
      "source": [
        "data_dir = '/content/drive/MyDrive/bees_dataset'\r\n",
        "train_dir = data_dir + '/train'\r\n",
        "valid_dir = data_dir + '/validation'\r\n",
        "test_dir = data_dir + '/test'"
      ],
      "execution_count": 3,
      "outputs": []
    },
    {
      "cell_type": "markdown",
      "metadata": {
        "id": "htqAgM-HMEPA"
      },
      "source": [
        "# 3. Data Augumentation\r\n",
        "\r\n",
        "The strategy which enables to increase the diversity of data available for training models, without actually collecting new data. Here I augumented data by resizing, cropping, flipping, roatating and normalizing as required by the trained model input. The data is than loaded into batch for training and testing.\r\n",
        "\r\n"
      ]
    },
    {
      "cell_type": "code",
      "metadata": {
        "id": "Oy6xMht5caP9"
      },
      "source": [
        "training_transforms = transforms.Compose([transforms.RandomRotation(30),\r\n",
        "                                          transforms.RandomResizedCrop(224),\r\n",
        "                                          transforms.RandomHorizontalFlip(),\r\n",
        "                                          transforms.ToTensor(),\r\n",
        "                                          transforms.Normalize([0.485, 0.456, 0.406], \r\n",
        "                                                               [0.229, 0.224, 0.225])])\r\n",
        "\r\n",
        "validation_transforms = transforms.Compose([transforms.Resize(256),\r\n",
        "                                            transforms.CenterCrop(224),\r\n",
        "                                            transforms.ToTensor(),\r\n",
        "                                            transforms.Normalize([0.485, 0.456, 0.406], \r\n",
        "                                                                 [0.229, 0.224, 0.225])])\r\n",
        "\r\n",
        "testing_transforms = transforms.Compose([transforms.Resize(256),\r\n",
        "                                         transforms.CenterCrop(224),\r\n",
        "                                         transforms.ToTensor(),\r\n",
        "                                         transforms.Normalize([0.485, 0.456, 0.406], \r\n",
        "                                                              [0.229, 0.224, 0.225])])\r\n",
        "\r\n",
        "training_dataset = datasets.ImageFolder(train_dir, transform=training_transforms)\r\n",
        "validation_dataset = datasets.ImageFolder(valid_dir, transform=validation_transforms)\r\n",
        "testing_dataset = datasets.ImageFolder(test_dir, transform=testing_transforms)\r\n",
        "\r\n",
        "\r\n",
        "train_loader = torch.utils.data.DataLoader(training_dataset, batch_size = 64,shuffle=True)\r\n",
        "validate_loader = torch.utils.data.DataLoader(validation_dataset,batch_size=32)\r\n",
        "test_loader = torch.utils.data.DataLoader(testing_dataset,batch_size=32)"
      ],
      "execution_count": 4,
      "outputs": []
    },
    {
      "cell_type": "code",
      "metadata": {
        "id": "oLfNs70FpuQ7",
        "colab": {
          "base_uri": "https://localhost:8080/",
          "height": 57
        },
        "outputId": "7064cff0-2c0c-4d8e-bcfd-47ad9a063329"
      },
      "source": [
        "#Displaying some sample images of the dataset\r\n",
        "from PIL import Image\r\n",
        "Carniolan = '/content/drive/MyDrive/bees_dataset/train/Carniolan_honey_bee/010_069.png'\r\n",
        "Italian = '/content/drive/MyDrive/bees_dataset/train/Italian_honey_bee/003_036.png'\r\n",
        "Russian = '/content/drive/MyDrive/bees_dataset/train/Russian_honey_bee/001_083.png'\r\n",
        "Image.open(Carniolan)"
      ],
      "execution_count": 5,
      "outputs": [
        {
          "output_type": "execute_result",
          "data": {
            "image/png": "[encoded data removed]",
            "text/plain": [
              "<PIL.PngImagePlugin.PngImageFile image mode=RGB size=60x40 at 0x7F48DD8F1940>"
            ]
          },
          "metadata": {
            "tags": []
          },
          "execution_count": 5
        }
      ]
    },
    {
      "cell_type": "code",
      "metadata": {
        "colab": {
          "base_uri": "https://localhost:8080/",
          "height": 136
        },
        "id": "avfwmV5rFyhX",
        "outputId": "8b080d5e-1e9c-4dfb-f178-1b41a48fd130"
      },
      "source": [
        "Image.open(Italian)"
      ],
      "execution_count": 6,
      "outputs": [
        {
          "output_type": "execute_result",
          "data": {
            "image/png": "[encoded data removed]",
            "text/plain": [
              "<PIL.PngImagePlugin.PngImageFile image mode=RGB size=113x119 at 0x7F7E65F1E9B0>"
            ]
          },
          "metadata": {
            "tags": []
          },
          "execution_count": 6
        }
      ]
    },
    {
      "cell_type": "code",
      "metadata": {
        "colab": {
          "base_uri": "https://localhost:8080/",
          "height": 89
        },
        "id": "uloG73_sF6EJ",
        "outputId": "d7c73fa6-063d-4518-9382-d6ef871710d9"
      },
      "source": [
        "Image.open(Russian)"
      ],
      "execution_count": 7,
      "outputs": [
        {
          "output_type": "execute_result",
          "data": {
            "image/png": "[encoded data removed]",
            "text/plain": [
              "<PIL.PngImagePlugin.PngImageFile image mode=RGB size=60x72 at 0x7F7E65F1EA90>"
            ]
          },
          "metadata": {
            "tags": []
          },
          "execution_count": 7
        }
      ]
    },
    {
      "cell_type": "markdown",
      "metadata": {
        "id": "OPKibLOCOmtm"
      },
      "source": [
        "# 4. Transfer Learning\r\n",
        "\r\n",
        "It is a method of using pre-trained models to solve deep learning problems. A pre-trained model is a model is built by someone else and trained on huge data with powerful GPU. In TL approach we can perform fixed feature extraction or\r\n",
        "Freeze some layers and train and new layers (Fine tuning). \r\n",
        "\r\n",
        "In Fixed feature extraction, the data we are trying to train the model on, should be very similar to the data that pre-trained model was originally trained on. And the fine tuning can be adopted when data similarity is very low.\r\n"
      ]
    },
    {
      "cell_type": "code",
      "metadata": {
        "id": "x45BzQeYF0Io"
      },
      "source": [
        ""
      ],
      "execution_count": null,
      "outputs": []
    },
    {
      "cell_type": "code",
      "metadata": {
        "id": "anQ29N85VFXr",
        "colab": {
          "base_uri": "https://localhost:8080/",
          "height": 868,
          "referenced_widgets": [
            "e97a79b0040b4f03885d0cc5fef70fb7",
            "2590ad6c9e40478d9cf816a6436d97cb",
            "80f4176476f745589c0f015f7d155413",
            "1ce6b77c2d084a15a636aa8ec22140f1",
            "b6b5f17bb0b34818877f897f186a20ae",
            "28d72fde7a7243d2855890886ed91f6a",
            "29cdfabe37f14040a3ca84732dd721c8",
            "2a972f68bb6745f0bee69ff4599f432f"
          ]
        },
        "outputId": "5f611509-2c4f-458a-da53-762250682936"
      },
      "source": [
        "model = models.vgg16(pretrained=True)\r\n",
        "model"
      ],
      "execution_count": 6,
      "outputs": [
        {
          "output_type": "stream",
          "text": [
            "Downloading: \"https://download.pytorch.org/models/vgg16-397923af.pth\" to /root/.cache/torch/hub/checkpoints/vgg16-397923af.pth\n"
          ],
          "name": "stderr"
        },
        {
          "output_type": "display_data",
          "data": {
            "application/vnd.jupyter.widget-view+json": {
              "model_id": "e97a79b0040b4f03885d0cc5fef70fb7",
              "version_minor": 0,
              "version_major": 2
            },
            "text/plain": [
              "HBox(children=(FloatProgress(value=0.0, max=553433881.0), HTML(value='')))"
            ]
          },
          "metadata": {
            "tags": []
          }
        },
        {
          "output_type": "stream",
          "text": [
            "\n"
          ],
          "name": "stdout"
        },
        {
          "output_type": "execute_result",
          "data": {
            "text/plain": [
              "VGG(\n",
              "  (features): Sequential(\n",
              "    (0): Conv2d(3, 64, kernel_size=(3, 3), stride=(1, 1), padding=(1, 1))\n",
              "    (1): ReLU(inplace=True)\n",
              "    (2): Conv2d(64, 64, kernel_size=(3, 3), stride=(1, 1), padding=(1, 1))\n",
              "    (3): ReLU(inplace=True)\n",
              "    (4): MaxPool2d(kernel_size=2, stride=2, padding=0, dilation=1, ceil_mode=False)\n",
              "    (5): Conv2d(64, 128, kernel_size=(3, 3), stride=(1, 1), padding=(1, 1))\n",
              "    (6): ReLU(inplace=True)\n",
              "    (7): Conv2d(128, 128, kernel_size=(3, 3), stride=(1, 1), padding=(1, 1))\n",
              "    (8): ReLU(inplace=True)\n",
              "    (9): MaxPool2d(kernel_size=2, stride=2, padding=0, dilation=1, ceil_mode=False)\n",
              "    (10): Conv2d(128, 256, kernel_size=(3, 3), stride=(1, 1), padding=(1, 1))\n",
              "    (11): ReLU(inplace=True)\n",
              "    (12): Conv2d(256, 256, kernel_size=(3, 3), stride=(1, 1), padding=(1, 1))\n",
              "    (13): ReLU(inplace=True)\n",
              "    (14): Conv2d(256, 256, kernel_size=(3, 3), stride=(1, 1), padding=(1, 1))\n",
              "    (15): ReLU(inplace=True)\n",
              "    (16): MaxPool2d(kernel_size=2, stride=2, padding=0, dilation=1, ceil_mode=False)\n",
              "    (17): Conv2d(256, 512, kernel_size=(3, 3), stride=(1, 1), padding=(1, 1))\n",
              "    (18): ReLU(inplace=True)\n",
              "    (19): Conv2d(512, 512, kernel_size=(3, 3), stride=(1, 1), padding=(1, 1))\n",
              "    (20): ReLU(inplace=True)\n",
              "    (21): Conv2d(512, 512, kernel_size=(3, 3), stride=(1, 1), padding=(1, 1))\n",
              "    (22): ReLU(inplace=True)\n",
              "    (23): MaxPool2d(kernel_size=2, stride=2, padding=0, dilation=1, ceil_mode=False)\n",
              "    (24): Conv2d(512, 512, kernel_size=(3, 3), stride=(1, 1), padding=(1, 1))\n",
              "    (25): ReLU(inplace=True)\n",
              "    (26): Conv2d(512, 512, kernel_size=(3, 3), stride=(1, 1), padding=(1, 1))\n",
              "    (27): ReLU(inplace=True)\n",
              "    (28): Conv2d(512, 512, kernel_size=(3, 3), stride=(1, 1), padding=(1, 1))\n",
              "    (29): ReLU(inplace=True)\n",
              "    (30): MaxPool2d(kernel_size=2, stride=2, padding=0, dilation=1, ceil_mode=False)\n",
              "  )\n",
              "  (avgpool): AdaptiveAvgPool2d(output_size=(7, 7))\n",
              "  (classifier): Sequential(\n",
              "    (0): Linear(in_features=25088, out_features=4096, bias=True)\n",
              "    (1): ReLU(inplace=True)\n",
              "    (2): Dropout(p=0.5, inplace=False)\n",
              "    (3): Linear(in_features=4096, out_features=4096, bias=True)\n",
              "    (4): ReLU(inplace=True)\n",
              "    (5): Dropout(p=0.5, inplace=False)\n",
              "    (6): Linear(in_features=4096, out_features=1000, bias=True)\n",
              "  )\n",
              ")"
            ]
          },
          "metadata": {
            "tags": []
          },
          "execution_count": 6
        }
      ]
    },
    {
      "cell_type": "code",
      "metadata": {
        "id": "1uwOtg5alPw5"
      },
      "source": [
        "for parameter in model.parameters():\r\n",
        "    parameter.requires_grad = False\r\n",
        "from collections import OrderedDict\r\n",
        "\r\n",
        "classifier = nn.Sequential(OrderedDict([('fc1', nn.Linear(25088, 5000)),\r\n",
        "                                        ('relu', nn.ReLU()),\r\n",
        "                                        ('drop', nn.Dropout(p=0.5)),\r\n",
        "                                        ('fc2', nn.Linear(5000, 3)),\r\n",
        "                                        ('output', nn.LogSoftmax(dim=1))]))\r\n",
        "\r\n",
        "model.classifier = classifier"
      ],
      "execution_count": 7,
      "outputs": []
    },
    {
      "cell_type": "markdown",
      "metadata": {
        "id": "Xkac0aek6khc"
      },
      "source": [
        "# 5. Training, Validating and Testing Model\r\n",
        "\r\n",
        "There are three seperate functions for training, validating and testing. Training the model for 20 epochs, using Adam aptimizer and negative log likelihood loss funtion with learning rate of 0.001. The validation and training accuracy are printed. And the complete test accuracy is printed."
      ]
    },
    {
      "cell_type": "code",
      "metadata": {
        "id": "DPUzUHEglTzb"
      },
      "source": [
        "def validation(model, validateloader, criterion):\r\n",
        "    \r\n",
        "    val_loss = 0\r\n",
        "    accuracy = 0\r\n",
        "    \r\n",
        "    for images, labels in iter(validateloader):\r\n",
        "\r\n",
        "        images, labels = images.to('cuda'), labels.to('cuda')\r\n",
        "\r\n",
        "        output = model.forward(images)\r\n",
        "        val_loss += criterion(output, labels).item()\r\n",
        "\r\n",
        "        probabilities = torch.exp(output)\r\n",
        "        \r\n",
        "        equality = (labels.data == probabilities.max(dim=1)[1])\r\n",
        "        accuracy += equality.type(torch.FloatTensor).mean()\r\n",
        "    \r\n",
        "    return val_loss, accuracy"
      ],
      "execution_count": 8,
      "outputs": []
    },
    {
      "cell_type": "code",
      "metadata": {
        "id": "n2yvQgkylWhy"
      },
      "source": [
        "criterion = nn.NLLLoss()\r\n",
        "optimizer = optim.Adam(model.classifier.parameters(), lr=0.001)"
      ],
      "execution_count": 9,
      "outputs": []
    },
    {
      "cell_type": "code",
      "metadata": {
        "colab": {
          "base_uri": "https://localhost:8080/"
        },
        "id": "WasaAzB1lbhl",
        "outputId": "942ac70f-65cb-4f07-907b-816ebc28d9c2"
      },
      "source": [
        "def train_classifier():\r\n",
        "\r\n",
        "        epochs = 20\r\n",
        "        steps = 0\r\n",
        "        print_every = 22\r\n",
        "        \r\n",
        "        model.to('cuda')\r\n",
        "        i=0\r\n",
        "        for e in range(epochs):\r\n",
        "        \r\n",
        "            model.train()\r\n",
        "    \r\n",
        "            running_loss = 0\r\n",
        "            train_accuracy = 0\r\n",
        "    \r\n",
        "            for images, labels in iter(train_loader):\r\n",
        "        \r\n",
        "                steps += 1\r\n",
        "        \r\n",
        "                images, labels = images.to('cuda'), labels.to('cuda')\r\n",
        "        \r\n",
        "                optimizer.zero_grad()\r\n",
        "        \r\n",
        "                output = model.forward(images)\r\n",
        "                probabilities = torch.exp(output)\r\n",
        "                equality = (labels.data == probabilities.max(dim=1)[1])\r\n",
        "                train_accuracy += equality.type(torch.FloatTensor).mean()\r\n",
        "\r\n",
        "                loss = criterion(output, labels)\r\n",
        "                loss.backward()\r\n",
        "                optimizer.step()\r\n",
        "        \r\n",
        "                running_loss += loss.item()\r\n",
        "              \r\n",
        "                if steps % print_every == 0:\r\n",
        "                    \r\n",
        "                    #print(i)\r\n",
        "                    #i= i+1\r\n",
        "                    model.eval()\r\n",
        "              \r\n",
        "                    with torch.no_grad():\r\n",
        "                        validation_loss, accuracy = validation(model, validate_loader, criterion)\r\n",
        "            \r\n",
        "                    print(\"Epoch: {}/{}.. \".format(e+1, epochs),\r\n",
        "                          \"Val Loss: {:.3f}.. \".format(validation_loss/len(validate_loader)),\r\n",
        "                          \"Val Acc: {:.3f}\".format(accuracy/len(validate_loader)),\r\n",
        "                          \"Training Loss: {:.3f}.. \".format(running_loss/print_every),\r\n",
        "                          \"Training Acc: {:.3f}.. \".format(train_accuracy/print_every))\r\n",
        "            \r\n",
        "                    running_loss = 0\r\n",
        "                    model.train()\r\n",
        "                    \r\n",
        "data = train_classifier()"
      ],
      "execution_count": 12,
      "outputs": [
        {
          "output_type": "stream",
          "text": [
            "Epoch: 1/20..  Val Loss: 0.721..  Val Acc: 0.880 Training Loss: 0.144..  Training Acc: 0.961.. \n",
            "Epoch: 2/20..  Val Loss: 0.695..  Val Acc: 0.889 Training Loss: 0.112..  Training Acc: 0.976.. \n",
            "Epoch: 3/20..  Val Loss: 0.325..  Val Acc: 0.960 Training Loss: 0.129..  Training Acc: 0.974.. \n",
            "Epoch: 4/20..  Val Loss: 0.482..  Val Acc: 0.960 Training Loss: 0.127..  Training Acc: 0.972.. \n",
            "Epoch: 5/20..  Val Loss: 0.394..  Val Acc: 0.980 Training Loss: 0.170..  Training Acc: 0.968.. \n",
            "Epoch: 6/20..  Val Loss: 0.433..  Val Acc: 0.964 Training Loss: 0.128..  Training Acc: 0.977.. \n",
            "Epoch: 7/20..  Val Loss: 0.548..  Val Acc: 0.964 Training Loss: 0.095..  Training Acc: 0.979.. \n",
            "Epoch: 8/20..  Val Loss: 1.097..  Val Acc: 0.909 Training Loss: 0.199..  Training Acc: 0.972.. \n",
            "Epoch: 9/20..  Val Loss: 0.333..  Val Acc: 0.980 Training Loss: 0.207..  Training Acc: 0.969.. \n",
            "Epoch: 10/20..  Val Loss: 0.051..  Val Acc: 0.969 Training Loss: 0.136..  Training Acc: 0.968.. \n",
            "Epoch: 11/20..  Val Loss: 0.094..  Val Acc: 0.960 Training Loss: 0.116..  Training Acc: 0.986.. \n",
            "Epoch: 12/20..  Val Loss: 0.987..  Val Acc: 0.929 Training Loss: 0.193..  Training Acc: 0.971.. \n",
            "Epoch: 13/20..  Val Loss: 0.057..  Val Acc: 0.980 Training Loss: 0.242..  Training Acc: 0.971.. \n",
            "Epoch: 14/20..  Val Loss: 0.172..  Val Acc: 0.980 Training Loss: 0.222..  Training Acc: 0.971.. \n",
            "Epoch: 15/20..  Val Loss: 0.066..  Val Acc: 0.980 Training Loss: 0.231..  Training Acc: 0.967.. \n",
            "Epoch: 16/20..  Val Loss: 0.002..  Val Acc: 1.000 Training Loss: 0.229..  Training Acc: 0.969.. \n",
            "Epoch: 17/20..  Val Loss: 0.204..  Val Acc: 0.924 Training Loss: 0.311..  Training Acc: 0.965.. \n",
            "Epoch: 18/20..  Val Loss: 0.000..  Val Acc: 1.000 Training Loss: 0.301..  Training Acc: 0.969.. \n",
            "Epoch: 19/20..  Val Loss: 0.533..  Val Acc: 0.964 Training Loss: 0.065..  Training Acc: 0.989.. \n",
            "Epoch: 20/20..  Val Loss: 0.356..  Val Acc: 0.980 Training Loss: 0.251..  Training Acc: 0.979.. \n"
          ],
          "name": "stdout"
        }
      ]
    },
    {
      "cell_type": "markdown",
      "metadata": {
        "id": "6rpAS7FcqFVK"
      },
      "source": [
        "Now testing the model on the test dataset"
      ]
    },
    {
      "cell_type": "code",
      "metadata": {
        "id": "X4gmFwm5ld8m",
        "colab": {
          "base_uri": "https://localhost:8080/"
        },
        "outputId": "f7984dc3-a07b-47ba-ba75-3edd25e7fa73"
      },
      "source": [
        "def test_accuracy(model, test_loader):\r\n",
        "\r\n",
        "    # Do validation on the test set\r\n",
        "    model.eval()\r\n",
        "    model.to('cuda')\r\n",
        "\r\n",
        "    with torch.no_grad():\r\n",
        "    \r\n",
        "        accuracy = 0\r\n",
        "        \r\n",
        "        i=0\r\n",
        "        for images, labels in iter(test_loader):\r\n",
        "            \r\n",
        "    \r\n",
        "            images, labels = images.to('cuda'), labels.to('cuda')\r\n",
        "    \r\n",
        "            output = model.forward(images)\r\n",
        "\r\n",
        "            probabilities = torch.exp(output)\r\n",
        "        \r\n",
        "            equality = (labels.data == probabilities.max(dim=1)[1])\r\n",
        "            #print(i)\r\n",
        "            #i= i+1\r\n",
        "            accuracy += equality.type(torch.FloatTensor).mean()\r\n",
        "        \r\n",
        "        print(\"Test Accuracy: {}\".format(accuracy/len(test_loader)))    \r\n",
        "        \r\n",
        "        \r\n",
        "test_accuracy(model, test_loader)"
      ],
      "execution_count": 13,
      "outputs": [
        {
          "output_type": "stream",
          "text": [
            "Test Accuracy: 0.984375\n"
          ],
          "name": "stdout"
        }
      ]
    },
    {
      "cell_type": "markdown",
      "metadata": {
        "id": "eIISbDYvp4bb"
      },
      "source": [
        "Saving the model weights, which can later be taken to test on any new images."
      ]
    },
    {
      "cell_type": "code",
      "metadata": {
        "id": "MGkSPtGGAdDs"
      },
      "source": [
        "def save_checkpoint(model):\r\n",
        "\r\n",
        "    model.class_to_idx = training_dataset.class_to_idx\r\n",
        "\r\n",
        "    checkpoint = {'arch': \"vgg16\",\r\n",
        "                  'class_to_idx': model.class_to_idx,\r\n",
        "                  'model_state_dict': model.state_dict()\r\n",
        "                 }\r\n",
        "\r\n",
        "    torch.save(checkpoint, 'checkpoint.pth')\r\n",
        "    \r\n",
        "save_checkpoint(model)   "
      ],
      "execution_count": 14,
      "outputs": []
    },
    {
      "cell_type": "markdown",
      "metadata": {
        "id": "SVWvQLxkkM2t"
      },
      "source": [
        "# 6. Evaluation:\r\n",
        "\r\n",
        "It is always neccessary to evaluate the model, after it is trained and tested. Evaluation helps in application of any model in real time. To evaluate this model I am using confusion matrix."
      ]
    },
    {
      "cell_type": "code",
      "metadata": {
        "colab": {
          "base_uri": "https://localhost:8080/",
          "height": 483
        },
        "id": "dZNs-buXe6jj",
        "outputId": "aa81473c-0229-4f0d-b080-26ff8aab5c14"
      },
      "source": [
        "import pandas as pd\r\n",
        "import seaborn as sn\r\n",
        "nb_classes = 3\r\n",
        "confusion_matrix = np.zeros((nb_classes, nb_classes))\r\n",
        "with torch.no_grad():\r\n",
        "    for i, (inputs, classes) in enumerate(test_loader):\r\n",
        "        inputs = inputs.to('cuda')\r\n",
        "        classes = classes.to('cuda')\r\n",
        "        outputs = model(inputs)\r\n",
        "        _, preds = torch.max(outputs, 1)\r\n",
        "        for t, p in zip(classes.view(-1), preds.view(-1)):\r\n",
        "                confusion_matrix[t.long(), p.long()] += 1\r\n",
        "\r\n",
        "plt.figure(figsize=(5,5))\r\n",
        "\r\n",
        "class_names = ['Carniolan_honey_bee','Italian_honey_bee','Russian_honey_bee']\r\n",
        "df_cm = pd.DataFrame(confusion_matrix, index=class_names, columns=class_names).astype(int)\r\n",
        "\r\n",
        "sn.set(font_scale=1.4)\r\n",
        "sn.heatmap(df_cm, annot=True, annot_kws={\"size\": 16})\r\n",
        "\r\n",
        "plt.show()\r\n",
        "\r\n",
        "\r\n"
      ],
      "execution_count": 15,
      "outputs": [
        {
          "output_type": "display_data",
          "data": {
            "image/png": "[encoded data removed]",
            "text/plain": [
              "<Figure size 360x360 with 2 Axes>"
            ]
          },
          "metadata": {
            "tags": [],
            "needs_background": "light"
          }
        }
      ]
    },
    {
      "cell_type": "markdown",
      "metadata": {
        "id": "k6j9NzJoLdfJ"
      },
      "source": [
        "Below are the results of accuracy of individual class respectively."
      ]
    },
    {
      "cell_type": "code",
      "metadata": {
        "colab": {
          "base_uri": "https://localhost:8080/"
        },
        "id": "jkJO_At9flE2",
        "outputId": "cf75e3a1-525f-4196-e39e-24f4c572423e"
      },
      "source": [
        "# Per-class accuracy\r\n",
        "class_accuracy=100*confusion_matrix.diagonal()/confusion_matrix.sum(1)\r\n",
        "print(class_accuracy)"
      ],
      "execution_count": 16,
      "outputs": [
        {
          "output_type": "stream",
          "text": [
            "[ 97.5 100.   97.5]\n"
          ],
          "name": "stdout"
        }
      ]
    },
    {
      "cell_type": "markdown",
      "metadata": {
        "id": "xjXq750XLlW3"
      },
      "source": [
        "# 7. Conclusion\r\n",
        "\r\n",
        "Transfer Learning approach is adapted, since our dataset is very small. In TL approach I used the fine tuning method as the data is not so similar to the dataset on which the model is trained on. If you observe the above confusion matrix, the model gave good results on the test data."
      ]
    },
    {
      "cell_type": "code",
      "metadata": {
        "id": "jp-wgTZ5AZkR"
      },
      "source": [
        ""
      ],
      "execution_count": null,
      "outputs": []
    }
  ]
}