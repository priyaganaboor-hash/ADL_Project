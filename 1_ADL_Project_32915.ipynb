{
  "nbformat": 4,
  "nbformat_minor": 0,
  "metadata": {
    "colab": {
      "name": "1_ADL_Project_32915.ipynb",
      "provenance": [],
      "collapsed_sections": []
    },
    "kernelspec": {
      "name": "python3",
      "display_name": "Python 3"
    },
    "widgets": {
      "application/vnd.jupyter.widget-state+json": {
        "7af5c435f3b74a1c8e66c834fd4a0b28": {
          "model_module": "@jupyter-widgets/controls",
          "model_name": "HBoxModel",
          "state": {
            "_view_name": "HBoxView",
            "_dom_classes": [],
            "_model_name": "HBoxModel",
            "_view_module": "@jupyter-widgets/controls",
            "_model_module_version": "1.5.0",
            "_view_count": null,
            "_view_module_version": "1.5.0",
            "box_style": "",
            "layout": "IPY_MODEL_4519a8763a78467bb74750677187c3f3",
            "_model_module": "@jupyter-widgets/controls",
            "children": [
              "IPY_MODEL_49e19245d44146c09975c82ae580b660",
              "IPY_MODEL_d7a9b9f8a82c4bbdbfdf304fce82d3ce"
            ]
          }
        },
        "4519a8763a78467bb74750677187c3f3": {
          "model_module": "@jupyter-widgets/base",
          "model_name": "LayoutModel",
          "state": {
            "_view_name": "LayoutView",
            "grid_template_rows": null,
            "right": null,
            "justify_content": null,
            "_view_module": "@jupyter-widgets/base",
            "overflow": null,
            "_model_module_version": "1.2.0",
            "_view_count": null,
            "flex_flow": null,
            "width": null,
            "min_width": null,
            "border": null,
            "align_items": null,
            "bottom": null,
            "_model_module": "@jupyter-widgets/base",
            "top": null,
            "grid_column": null,
            "overflow_y": null,
            "overflow_x": null,
            "grid_auto_flow": null,
            "grid_area": null,
            "grid_template_columns": null,
            "flex": null,
            "_model_name": "LayoutModel",
            "justify_items": null,
            "grid_row": null,
            "max_height": null,
            "align_content": null,
            "visibility": null,
            "align_self": null,
            "height": null,
            "min_height": null,
            "padding": null,
            "grid_auto_rows": null,
            "grid_gap": null,
            "max_width": null,
            "order": null,
            "_view_module_version": "1.2.0",
            "grid_template_areas": null,
            "object_position": null,
            "object_fit": null,
            "grid_auto_columns": null,
            "margin": null,
            "display": null,
            "left": null
          }
        },
        "49e19245d44146c09975c82ae580b660": {
          "model_module": "@jupyter-widgets/controls",
          "model_name": "FloatProgressModel",
          "state": {
            "_view_name": "ProgressView",
            "style": "IPY_MODEL_86d321da6d834ea48ce15ba15142f6e9",
            "_dom_classes": [],
            "description": "100%",
            "_model_name": "FloatProgressModel",
            "bar_style": "success",
            "max": 553433881,
            "_view_module": "@jupyter-widgets/controls",
            "_model_module_version": "1.5.0",
            "value": 553433881,
            "_view_count": null,
            "_view_module_version": "1.5.0",
            "orientation": "horizontal",
            "min": 0,
            "description_tooltip": null,
            "_model_module": "@jupyter-widgets/controls",
            "layout": "IPY_MODEL_4dc020650c534cdaae6e6e1ad17aa4c5"
          }
        },
        "d7a9b9f8a82c4bbdbfdf304fce82d3ce": {
          "model_module": "@jupyter-widgets/controls",
          "model_name": "HTMLModel",
          "state": {
            "_view_name": "HTMLView",
            "style": "IPY_MODEL_30d4a857d86d476383f92e9cfb2f9e67",
            "_dom_classes": [],
            "description": "",
            "_model_name": "HTMLModel",
            "placeholder": "​",
            "_view_module": "@jupyter-widgets/controls",
            "_model_module_version": "1.5.0",
            "value": " 528M/528M [06:01&lt;00:00, 1.53MB/s]",
            "_view_count": null,
            "_view_module_version": "1.5.0",
            "description_tooltip": null,
            "_model_module": "@jupyter-widgets/controls",
            "layout": "IPY_MODEL_cb8e27e637474db1affe5c0f49be203a"
          }
        },
        "86d321da6d834ea48ce15ba15142f6e9": {
          "model_module": "@jupyter-widgets/controls",
          "model_name": "ProgressStyleModel",
          "state": {
            "_view_name": "StyleView",
            "_model_name": "ProgressStyleModel",
            "description_width": "initial",
            "_view_module": "@jupyter-widgets/base",
            "_model_module_version": "1.5.0",
            "_view_count": null,
            "_view_module_version": "1.2.0",
            "bar_color": null,
            "_model_module": "@jupyter-widgets/controls"
          }
        },
        "4dc020650c534cdaae6e6e1ad17aa4c5": {
          "model_module": "@jupyter-widgets/base",
          "model_name": "LayoutModel",
          "state": {
            "_view_name": "LayoutView",
            "grid_template_rows": null,
            "right": null,
            "justify_content": null,
            "_view_module": "@jupyter-widgets/base",
            "overflow": null,
            "_model_module_version": "1.2.0",
            "_view_count": null,
            "flex_flow": null,
            "width": null,
            "min_width": null,
            "border": null,
            "align_items": null,
            "bottom": null,
            "_model_module": "@jupyter-widgets/base",
            "top": null,
            "grid_column": null,
            "overflow_y": null,
            "overflow_x": null,
            "grid_auto_flow": null,
            "grid_area": null,
            "grid_template_columns": null,
            "flex": null,
            "_model_name": "LayoutModel",
            "justify_items": null,
            "grid_row": null,
            "max_height": null,
            "align_content": null,
            "visibility": null,
            "align_self": null,
            "height": null,
            "min_height": null,
            "padding": null,
            "grid_auto_rows": null,
            "grid_gap": null,
            "max_width": null,
            "order": null,
            "_view_module_version": "1.2.0",
            "grid_template_areas": null,
            "object_position": null,
            "object_fit": null,
            "grid_auto_columns": null,
            "margin": null,
            "display": null,
            "left": null
          }
        },
        "30d4a857d86d476383f92e9cfb2f9e67": {
          "model_module": "@jupyter-widgets/controls",
          "model_name": "DescriptionStyleModel",
          "state": {
            "_view_name": "StyleView",
            "_model_name": "DescriptionStyleModel",
            "description_width": "",
            "_view_module": "@jupyter-widgets/base",
            "_model_module_version": "1.5.0",
            "_view_count": null,
            "_view_module_version": "1.2.0",
            "_model_module": "@jupyter-widgets/controls"
          }
        },
        "cb8e27e637474db1affe5c0f49be203a": {
          "model_module": "@jupyter-widgets/base",
          "model_name": "LayoutModel",
          "state": {
            "_view_name": "LayoutView",
            "grid_template_rows": null,
            "right": null,
            "justify_content": null,
            "_view_module": "@jupyter-widgets/base",
            "overflow": null,
            "_model_module_version": "1.2.0",
            "_view_count": null,
            "flex_flow": null,
            "width": null,
            "min_width": null,
            "border": null,
            "align_items": null,
            "bottom": null,
            "_model_module": "@jupyter-widgets/base",
            "top": null,
            "grid_column": null,
            "overflow_y": null,
            "overflow_x": null,
            "grid_auto_flow": null,
            "grid_area": null,
            "grid_template_columns": null,
            "flex": null,
            "_model_name": "LayoutModel",
            "justify_items": null,
            "grid_row": null,
            "max_height": null,
            "align_content": null,
            "visibility": null,
            "align_self": null,
            "height": null,
            "min_height": null,
            "padding": null,
            "grid_auto_rows": null,
            "grid_gap": null,
            "max_width": null,
            "order": null,
            "_view_module_version": "1.2.0",
            "grid_template_areas": null,
            "object_position": null,
            "object_fit": null,
            "grid_auto_columns": null,
            "margin": null,
            "display": null,
            "left": null
          }
        }
      }
    }
  },
  "cells": [
    {
      "cell_type": "code",
      "metadata": {
        "id": "gZQoC3rZlxXx"
      },
      "source": [
        ""
      ],
      "execution_count": null,
      "outputs": []
    },
    {
      "cell_type": "code",
      "metadata": {
        "id": "Ayh0M-iHY_JL"
      },
      "source": [
        ""
      ],
      "execution_count": null,
      "outputs": []
    },
    {
      "cell_type": "markdown",
      "metadata": {
        "id": "-xFVB4byCRaO"
      },
      "source": [
        "## Honey Bee Classification Model\r\n",
        "\r\n",
        "## Contents:\r\n",
        "\r\n",
        "\r\n",
        "1.   Introduction\r\n",
        "2.   Dataset\r\n",
        "3.   Data Augumentation\r\n",
        "4.   Transfer Learning\r\n",
        "5.   Training, Validating and Testing Model.\r\n",
        "6.   Evaluation\r\n",
        "\r\n",
        "\r\n",
        "\r\n",
        " # 1. Introduction:\r\n",
        " \r\n",
        "Most the food that we eat today relies on pollination by bees. Honey bees have varieties of subspecies. The differences across these species can lead to differences in  temperament, disease resistance, productivity, color. So it is neccessry to identify different classes of subspecies.In this notebook, The honey bee classfication model is implemented using pytorch framework.  \r\n",
        "\r\n",
        "# 2. Dataset\r\n",
        "To solve this task, I am using - The BeeImage Dataset: Annotated Honey Bee Images is the \r\n",
        " <a href=\"https://www.kaggle.com/jenny18/honey-bee-annotated-images\" target=\"_blank\">dataset</a> \r\n",
        "which contains 5,100 odd bee images with columns location, date, time, subspecies, health condition, caste, and pollen.To begin with dataset, I divided the 5k images into 3 subspecies category namely Italian honey bee, Carniolan honey bee, Russian honey bee using the dataset csv file. So basically this model classifys into the above mentioned 3 subspecies. The best evaluation for classification model is obtained when the dataset is balanced. So I have made sure a balanced dataset while dividing into sub categories.\r\n",
        "\r\n"
      ]
    },
    {
      "cell_type": "code",
      "metadata": {
        "id": "rjKF8OoWBStZ"
      },
      "source": [
        "# importing csv module \r\n",
        "import csv \r\n",
        "import os\r\n",
        "import glob\r\n",
        "import numpy as np\r\n",
        "from PIL import Image\r\n",
        "import shutil\r\n",
        "# csv file name \r\n",
        "filename = \"bee_data.csv\"\r\n",
        "  \r\n",
        "# initializing the titles and rows list \r\n",
        "fields = [] \r\n",
        "rows = [] \r\n",
        "i=j=k=l=m=0\r\n",
        "\r\n",
        "def copy_into_train_folders(class_name,img_name):\r\n",
        " \r\n",
        "    path =  'bee_imgs/'+img_name\r\n",
        "    outpath = 'bees_dataset/train/'+class_name\r\n",
        "    shutil.copy(path, outpath)\r\n",
        "\r\n",
        "def copy_into_test_folders(class_name,img_name):\r\n",
        " \r\n",
        "    path =  'bee_imgs/'+img_name\r\n",
        "    outpath = 'bees_dataset/test/'+class_name\r\n",
        "    shutil.copy(path, outpath)\r\n",
        "\r\n",
        "def copy_into_val_folders(class_name,img_name):\r\n",
        " \r\n",
        "    path =  'bee_imgs/'+img_name\r\n",
        "    outpath = 'bees_dataset/validation/'+class_name\r\n",
        "    shutil.copy(path, outpath)        \r\n",
        "    \r\n",
        "    \r\n",
        "# reading csv file \r\n",
        "with open(filename, 'r') as csvfile: \r\n",
        "    # creating a csv reader object \r\n",
        "    csvreader = csv.reader(csvfile,delimiter = ',') \r\n",
        "      \r\n",
        "    \r\n",
        "    fields = next(csvreader) \r\n",
        "    for col in csvreader:\r\n",
        "        if   col[5] == 'Italian honey bee':\r\n",
        "            if i < 40:\r\n",
        "              copy_into_train_folders('Italian_honey_bee',col[0])  \r\n",
        "              i = i+1\r\n",
        "            elif 40<i<50 : \r\n",
        "              copy_into_val_folders('Italian_honey_bee',col[0]) \r\n",
        "              i=i+1\r\n",
        "            else: \r\n",
        "              copy_into_test_folders('Italian_honey_bee',col[0]) \r\n",
        "              i=i+1    \r\n",
        "        elif col[5] == 'Carniolan honey bee':\r\n",
        "              if k < 40:\r\n",
        "                copy_into_train_folders('Carniolan_honey_bee',col[0])  \r\n",
        "                k = k+1\r\n",
        "              elif 40<k<50 : \r\n",
        "                copy_into_val_folders('Carniolan_honey_bee',col[0]) \r\n",
        "                k=k+1\r\n",
        "              else: \r\n",
        "                copy_into_test_folders('Carniolan_honey_bee',col[0]) \r\n",
        "                k=k+1 \r\n",
        "          \r\n",
        "        elif col[5] == 'Russian honey bee':\r\n",
        "            if l < 40:\r\n",
        "                copy_into_train_folders('Russian_honey_bee',col[0])  \r\n",
        "                l = l+1\r\n",
        "            elif 40<l<50 : \r\n",
        "                  copy_into_val_folders('Russian_honey_bee',col[0]) \r\n",
        "                  l=l+1\r\n",
        "            else: \r\n",
        "                  copy_into_test_folders('Russian_honey_bee',col[0]) \r\n",
        "                  l=l+1  \r\n",
        "        else:\r\n",
        "              continue         "
      ],
      "execution_count": null,
      "outputs": []
    },
    {
      "cell_type": "markdown",
      "metadata": {
        "id": "5_EV5oyT3Nqo"
      },
      "source": [
        "\r\n",
        "\r\n",
        "Below are the neccessary imports and dependencies.\r\n",
        "\r\n",
        "1.   !pip install torch\r\n",
        "2.   !pip install torchvision\r\n",
        "3.   !pip install numpy\r\n",
        "4.   !pip install pandas\r\n",
        "5.   !pip install matplotlib\r\n",
        "6.   !pip install seaborn\r\n",
        "\r\n",
        "\r\n",
        "\r\n"
      ]
    },
    {
      "cell_type": "code",
      "metadata": {
        "id": "DyrlsEu-fjN7"
      },
      "source": [
        "# Imports here\r\n",
        "import numpy as np\r\n",
        "import matplotlib.pyplot as plt\r\n",
        "import seaborn as sb\r\n",
        "import cv2\r\n",
        "import json\r\n",
        "\r\n",
        "import torch\r\n",
        "from torch import nn\r\n",
        "from torch import optim\r\n",
        "import torch.nn.functional as F\r\n",
        "import torchvision\r\n",
        "from torchvision import datasets, transforms, models"
      ],
      "execution_count": 2,
      "outputs": []
    },
    {
      "cell_type": "code",
      "metadata": {
        "id": "hYyLzXywUHcb"
      },
      "source": [
        "data_dir = '/content/drive/MyDrive/bees_dataset'\r\n",
        "train_dir = data_dir + '/train'\r\n",
        "valid_dir = data_dir + '/validation'\r\n",
        "test_dir = data_dir + '/test'"
      ],
      "execution_count": 3,
      "outputs": []
    },
    {
      "cell_type": "markdown",
      "metadata": {
        "id": "htqAgM-HMEPA"
      },
      "source": [
        "# 3. Data Augumentation\r\n",
        "\r\n",
        "The strategy which enables to increase the diversity of data available for training models, without actually collecting new data. Here I augumented data by resizing, cropping, flipping, roatating and normalizing as required by the trained model input. The data is than loaded into batch for training and testing.\r\n",
        "\r\n"
      ]
    },
    {
      "cell_type": "code",
      "metadata": {
        "id": "Oy6xMht5caP9"
      },
      "source": [
        "training_transforms = transforms.Compose([transforms.RandomRotation(30),\r\n",
        "                                          transforms.RandomResizedCrop(224),\r\n",
        "                                          transforms.RandomHorizontalFlip(),\r\n",
        "                                          transforms.ToTensor(),\r\n",
        "                                          transforms.Normalize([0.485, 0.456, 0.406], \r\n",
        "                                                               [0.229, 0.224, 0.225])])\r\n",
        "\r\n",
        "validation_transforms = transforms.Compose([transforms.Resize(256),\r\n",
        "                                            transforms.CenterCrop(224),\r\n",
        "                                            transforms.ToTensor(),\r\n",
        "                                            transforms.Normalize([0.485, 0.456, 0.406], \r\n",
        "                                                                 [0.229, 0.224, 0.225])])\r\n",
        "\r\n",
        "testing_transforms = transforms.Compose([transforms.Resize(256),\r\n",
        "                                         transforms.CenterCrop(224),\r\n",
        "                                         transforms.ToTensor(),\r\n",
        "                                         transforms.Normalize([0.485, 0.456, 0.406], \r\n",
        "                                                              [0.229, 0.224, 0.225])])\r\n",
        "\r\n",
        "training_dataset = datasets.ImageFolder(train_dir, transform=training_transforms)\r\n",
        "validation_dataset = datasets.ImageFolder(valid_dir, transform=validation_transforms)\r\n",
        "testing_dataset = datasets.ImageFolder(test_dir, transform=testing_transforms)\r\n",
        "\r\n",
        "\r\n",
        "train_loader = torch.utils.data.DataLoader(training_dataset, batch_size = 64,shuffle=True)\r\n",
        "validate_loader = torch.utils.data.DataLoader(validation_dataset,batch_size=32)\r\n",
        "test_loader = torch.utils.data.DataLoader(testing_dataset,batch_size=32)"
      ],
      "execution_count": 4,
      "outputs": []
    },
    {
      "cell_type": "code",
      "metadata": {
        "id": "oLfNs70FpuQ7",
        "colab": {
          "base_uri": "https://localhost:8080/",
          "height": 80
        },
        "outputId": "f38340f6-ee95-4caa-9066-3c3b9fb40e56"
      },
      "source": [
        "#Displaying some sample images of the dataset\r\n",
        "from PIL import Image\r\n",
        "img1 = '/content/drive/MyDrive/bees_dataset/train/Italian_honey_bee/017_000.png'\r\n",
        "img2 = '/content/drive/MyDrive/bees_dataset/train/Russian_honey_bee/002_034.png'\r\n",
        "img3 = '/content/drive/MyDrive/bees_dataset/train/Carniolan_honey_bee/046_197.png'\r\n",
        "Image.open(img1)"
      ],
      "execution_count": 7,
      "outputs": [
        {
          "output_type": "execute_result",
          "data": {
            "image/png": "[encoded data removed]",
            "text/plain": [
              "<PIL.PngImagePlugin.PngImageFile image mode=RGB size=63x63 at 0x7F2F1FD05240>"
            ]
          },
          "metadata": {
            "tags": []
          },
          "execution_count": 7
        }
      ]
    },
    {
      "cell_type": "code",
      "metadata": {
        "colab": {
          "base_uri": "https://localhost:8080/",
          "height": 85
        },
        "id": "avfwmV5rFyhX",
        "outputId": "e9f5072c-df55-49d6-bff8-b0e741381f36"
      },
      "source": [
        "Image.open(img2)"
      ],
      "execution_count": 5,
      "outputs": [
        {
          "output_type": "execute_result",
          "data": {
            "image/png": "[encoded data removed]",
            "text/plain": [
              "<PIL.PngImagePlugin.PngImageFile image mode=RGB size=72x68 at 0x7F2F1FD73E10>"
            ]
          },
          "metadata": {
            "tags": []
          },
          "execution_count": 5
        }
      ]
    },
    {
      "cell_type": "code",
      "metadata": {
        "colab": {
          "base_uri": "https://localhost:8080/",
          "height": 70
        },
        "id": "uloG73_sF6EJ",
        "outputId": "102ce192-0030-4ee7-8110-35aa4a18028c"
      },
      "source": [
        "Image.open(img3)"
      ],
      "execution_count": 8,
      "outputs": [
        {
          "output_type": "execute_result",
          "data": {
            "image/png": "[encoded data removed]",
            "text/plain": [
              "<PIL.PngImagePlugin.PngImageFile image mode=RGB size=44x53 at 0x7F2F1FD8DB00>"
            ]
          },
          "metadata": {
            "tags": []
          },
          "execution_count": 8
        }
      ]
    },
    {
      "cell_type": "markdown",
      "metadata": {
        "id": "OPKibLOCOmtm"
      },
      "source": [
        "# 4. Transfer Learning\r\n",
        "\r\n",
        "It is a method of using pre-trained models to solve deep learning problems. A pre-trained model is a model is built by someone else and trained on huge data with powerful GPU. In TL approach we can perform fixed feature extraction or\r\n",
        "Freeze some layers and train and new layers (Fine tuning). \r\n",
        "\r\n",
        "In Fixed feature extraction, the data we are trying to train the model on, should be very similar to the data that pre-trained model was originally trained on. And the fine tuning can be adopted when data similarity is very low.\r\n"
      ]
    },
    {
      "cell_type": "code",
      "metadata": {
        "id": "x45BzQeYF0Io"
      },
      "source": [
        ""
      ],
      "execution_count": null,
      "outputs": []
    },
    {
      "cell_type": "code",
      "metadata": {
        "id": "anQ29N85VFXr",
        "colab": {
          "base_uri": "https://localhost:8080/",
          "height": 868,
          "referenced_widgets": [
            "7af5c435f3b74a1c8e66c834fd4a0b28",
            "4519a8763a78467bb74750677187c3f3",
            "49e19245d44146c09975c82ae580b660",
            "d7a9b9f8a82c4bbdbfdf304fce82d3ce",
            "86d321da6d834ea48ce15ba15142f6e9",
            "4dc020650c534cdaae6e6e1ad17aa4c5",
            "30d4a857d86d476383f92e9cfb2f9e67",
            "cb8e27e637474db1affe5c0f49be203a"
          ]
        },
        "outputId": "b9b9dd3f-1238-448e-a3ba-c662868eeb53"
      },
      "source": [
        "model = models.vgg16(pretrained=True)\r\n",
        "model"
      ],
      "execution_count": 5,
      "outputs": [
        {
          "output_type": "stream",
          "text": [
            "Downloading: \"https://download.pytorch.org/models/vgg16-397923af.pth\" to /root/.cache/torch/hub/checkpoints/vgg16-397923af.pth\n"
          ],
          "name": "stderr"
        },
        {
          "output_type": "display_data",
          "data": {
            "application/vnd.jupyter.widget-view+json": {
              "model_id": "7af5c435f3b74a1c8e66c834fd4a0b28",
              "version_minor": 0,
              "version_major": 2
            },
            "text/plain": [
              "HBox(children=(FloatProgress(value=0.0, max=553433881.0), HTML(value='')))"
            ]
          },
          "metadata": {
            "tags": []
          }
        },
        {
          "output_type": "stream",
          "text": [
            "\n"
          ],
          "name": "stdout"
        },
        {
          "output_type": "execute_result",
          "data": {
            "text/plain": [
              "VGG(\n",
              "  (features): Sequential(\n",
              "    (0): Conv2d(3, 64, kernel_size=(3, 3), stride=(1, 1), padding=(1, 1))\n",
              "    (1): ReLU(inplace=True)\n",
              "    (2): Conv2d(64, 64, kernel_size=(3, 3), stride=(1, 1), padding=(1, 1))\n",
              "    (3): ReLU(inplace=True)\n",
              "    (4): MaxPool2d(kernel_size=2, stride=2, padding=0, dilation=1, ceil_mode=False)\n",
              "    (5): Conv2d(64, 128, kernel_size=(3, 3), stride=(1, 1), padding=(1, 1))\n",
              "    (6): ReLU(inplace=True)\n",
              "    (7): Conv2d(128, 128, kernel_size=(3, 3), stride=(1, 1), padding=(1, 1))\n",
              "    (8): ReLU(inplace=True)\n",
              "    (9): MaxPool2d(kernel_size=2, stride=2, padding=0, dilation=1, ceil_mode=False)\n",
              "    (10): Conv2d(128, 256, kernel_size=(3, 3), stride=(1, 1), padding=(1, 1))\n",
              "    (11): ReLU(inplace=True)\n",
              "    (12): Conv2d(256, 256, kernel_size=(3, 3), stride=(1, 1), padding=(1, 1))\n",
              "    (13): ReLU(inplace=True)\n",
              "    (14): Conv2d(256, 256, kernel_size=(3, 3), stride=(1, 1), padding=(1, 1))\n",
              "    (15): ReLU(inplace=True)\n",
              "    (16): MaxPool2d(kernel_size=2, stride=2, padding=0, dilation=1, ceil_mode=False)\n",
              "    (17): Conv2d(256, 512, kernel_size=(3, 3), stride=(1, 1), padding=(1, 1))\n",
              "    (18): ReLU(inplace=True)\n",
              "    (19): Conv2d(512, 512, kernel_size=(3, 3), stride=(1, 1), padding=(1, 1))\n",
              "    (20): ReLU(inplace=True)\n",
              "    (21): Conv2d(512, 512, kernel_size=(3, 3), stride=(1, 1), padding=(1, 1))\n",
              "    (22): ReLU(inplace=True)\n",
              "    (23): MaxPool2d(kernel_size=2, stride=2, padding=0, dilation=1, ceil_mode=False)\n",
              "    (24): Conv2d(512, 512, kernel_size=(3, 3), stride=(1, 1), padding=(1, 1))\n",
              "    (25): ReLU(inplace=True)\n",
              "    (26): Conv2d(512, 512, kernel_size=(3, 3), stride=(1, 1), padding=(1, 1))\n",
              "    (27): ReLU(inplace=True)\n",
              "    (28): Conv2d(512, 512, kernel_size=(3, 3), stride=(1, 1), padding=(1, 1))\n",
              "    (29): ReLU(inplace=True)\n",
              "    (30): MaxPool2d(kernel_size=2, stride=2, padding=0, dilation=1, ceil_mode=False)\n",
              "  )\n",
              "  (avgpool): AdaptiveAvgPool2d(output_size=(7, 7))\n",
              "  (classifier): Sequential(\n",
              "    (0): Linear(in_features=25088, out_features=4096, bias=True)\n",
              "    (1): ReLU(inplace=True)\n",
              "    (2): Dropout(p=0.5, inplace=False)\n",
              "    (3): Linear(in_features=4096, out_features=4096, bias=True)\n",
              "    (4): ReLU(inplace=True)\n",
              "    (5): Dropout(p=0.5, inplace=False)\n",
              "    (6): Linear(in_features=4096, out_features=1000, bias=True)\n",
              "  )\n",
              ")"
            ]
          },
          "metadata": {
            "tags": []
          },
          "execution_count": 5
        }
      ]
    },
    {
      "cell_type": "code",
      "metadata": {
        "id": "1uwOtg5alPw5"
      },
      "source": [
        "for parameter in model.parameters():\r\n",
        "    parameter.requires_grad = False\r\n",
        "from collections import OrderedDict\r\n",
        "\r\n",
        "classifier = nn.Sequential(OrderedDict([('fc1', nn.Linear(25088, 5000)),\r\n",
        "                                        ('relu', nn.ReLU()),\r\n",
        "                                        ('drop', nn.Dropout(p=0.5)),\r\n",
        "                                        ('fc2', nn.Linear(5000, 3)),\r\n",
        "                                        ('output', nn.LogSoftmax(dim=1))]))\r\n",
        "\r\n",
        "model.classifier = classifier"
      ],
      "execution_count": 6,
      "outputs": []
    },
    {
      "cell_type": "markdown",
      "metadata": {
        "id": "Xkac0aek6khc"
      },
      "source": [
        "# 5. Training, Validating and Testing Model\r\n",
        "\r\n",
        "There are three seperate functions for training, validating and testing. Training the model for 20 epochs, using Adam aptimizer and negative log likelihood loss funtion with learning rate of 0.001. The validation and training accuracy are printed. And the complete test accuracy is printed."
      ]
    },
    {
      "cell_type": "code",
      "metadata": {
        "id": "DPUzUHEglTzb"
      },
      "source": [
        "def validation(model, validateloader, criterion):\r\n",
        "    \r\n",
        "    val_loss = 0\r\n",
        "    accuracy = 0\r\n",
        "    \r\n",
        "    for images, labels in iter(validateloader):\r\n",
        "\r\n",
        "        images, labels = images.to('cuda'), labels.to('cuda')\r\n",
        "\r\n",
        "        output = model.forward(images)\r\n",
        "        val_loss += criterion(output, labels).item()\r\n",
        "\r\n",
        "        probabilities = torch.exp(output)\r\n",
        "        \r\n",
        "        equality = (labels.data == probabilities.max(dim=1)[1])\r\n",
        "        accuracy += equality.type(torch.FloatTensor).mean()\r\n",
        "    \r\n",
        "    return val_loss, accuracy"
      ],
      "execution_count": 7,
      "outputs": []
    },
    {
      "cell_type": "code",
      "metadata": {
        "id": "n2yvQgkylWhy"
      },
      "source": [
        "criterion = nn.NLLLoss()\r\n",
        "optimizer = optim.Adam(model.classifier.parameters(), lr=0.001)"
      ],
      "execution_count": 8,
      "outputs": []
    },
    {
      "cell_type": "code",
      "metadata": {
        "colab": {
          "base_uri": "https://localhost:8080/"
        },
        "id": "WasaAzB1lbhl",
        "outputId": "557bdc60-6fec-47e7-d87a-47b625abd32c"
      },
      "source": [
        "def train_classifier():\r\n",
        "\r\n",
        "        epochs = 20\r\n",
        "        steps = 0\r\n",
        "        print_every = 2\r\n",
        "        \r\n",
        "        model.to('cuda')\r\n",
        "\r\n",
        "        for e in range(epochs):\r\n",
        "        \r\n",
        "            model.train()\r\n",
        "    \r\n",
        "            running_loss = 0\r\n",
        "            train_accuracy = 0\r\n",
        "    \r\n",
        "            for images, labels in iter(train_loader):\r\n",
        "        \r\n",
        "                steps += 1\r\n",
        "        \r\n",
        "                images, labels = images.to('cuda'), labels.to('cuda')\r\n",
        "        \r\n",
        "                optimizer.zero_grad()\r\n",
        "        \r\n",
        "                output = model.forward(images)\r\n",
        "                probabilities = torch.exp(output)\r\n",
        "                equality = (labels.data == probabilities.max(dim=1)[1])\r\n",
        "                train_accuracy += equality.type(torch.FloatTensor).mean()\r\n",
        "\r\n",
        "                loss = criterion(output, labels)\r\n",
        "                loss.backward()\r\n",
        "                optimizer.step()\r\n",
        "        \r\n",
        "                running_loss += loss.item()\r\n",
        "              \r\n",
        "                if steps % print_every == 0:\r\n",
        "                    \r\n",
        "                \r\n",
        "                    model.eval()\r\n",
        "              \r\n",
        "                    with torch.no_grad():\r\n",
        "                        validation_loss, accuracy = validation(model, validate_loader, criterion)\r\n",
        "            \r\n",
        "                    print(\"Epoch: {}/{}.. \".format(e+1, epochs),\r\n",
        "                          \"Val Loss: {:.3f}.. \".format(validation_loss/len(validate_loader)),\r\n",
        "                          \"Val Acc: {:.3f}\".format(accuracy/len(validate_loader)),\r\n",
        "                          \"Training Loss: {:.3f}.. \".format(running_loss/print_every),\r\n",
        "                          \"Training Acc: {:.3f}.. \".format(train_accuracy/print_every),)\r\n",
        "            \r\n",
        "                    running_loss = 0\r\n",
        "                    model.train()\r\n",
        "                    \r\n",
        "data = train_classifier()"
      ],
      "execution_count": 9,
      "outputs": [
        {
          "output_type": "stream",
          "text": [
            "Epoch: 1/20..  Val Loss: 14.361..  Val Acc: 0.407 Training Loss: 2.020..  Training Acc: 0.360.. \n",
            "Epoch: 2/20..  Val Loss: 2.828..  Val Acc: 0.667 Training Loss: 11.380..  Training Acc: 0.618.. \n",
            "Epoch: 3/20..  Val Loss: 2.792..  Val Acc: 0.630 Training Loss: 3.840..  Training Acc: 0.690.. \n",
            "Epoch: 4/20..  Val Loss: 5.278..  Val Acc: 0.630 Training Loss: 1.824..  Training Acc: 0.704.. \n",
            "Epoch: 5/20..  Val Loss: 2.855..  Val Acc: 0.778 Training Loss: 1.755..  Training Acc: 0.796.. \n",
            "Epoch: 6/20..  Val Loss: 1.031..  Val Acc: 0.926 Training Loss: 0.307..  Training Acc: 0.911.. \n",
            "Epoch: 7/20..  Val Loss: 0.588..  Val Acc: 0.926 Training Loss: 0.470..  Training Acc: 0.910.. \n",
            "Epoch: 8/20..  Val Loss: 0.683..  Val Acc: 0.926 Training Loss: 0.805..  Training Acc: 0.884.. \n",
            "Epoch: 9/20..  Val Loss: 1.146..  Val Acc: 0.852 Training Loss: 0.430..  Training Acc: 0.935.. \n",
            "Epoch: 10/20..  Val Loss: 1.960..  Val Acc: 0.815 Training Loss: 0.248..  Training Acc: 0.934.. \n",
            "Epoch: 11/20..  Val Loss: 2.649..  Val Acc: 0.778 Training Loss: 0.078..  Training Acc: 0.984.. \n",
            "Epoch: 12/20..  Val Loss: 2.726..  Val Acc: 0.778 Training Loss: 0.602..  Training Acc: 0.901.. \n",
            "Epoch: 13/20..  Val Loss: 2.138..  Val Acc: 0.778 Training Loss: 0.263..  Training Acc: 0.942.. \n",
            "Epoch: 14/20..  Val Loss: 1.299..  Val Acc: 0.852 Training Loss: 0.112..  Training Acc: 0.959.. \n",
            "Epoch: 15/20..  Val Loss: 0.593..  Val Acc: 0.889 Training Loss: 0.229..  Training Acc: 0.959.. \n",
            "Epoch: 16/20..  Val Loss: 0.297..  Val Acc: 0.889 Training Loss: 0.199..  Training Acc: 0.951.. \n",
            "Epoch: 17/20..  Val Loss: 0.223..  Val Acc: 0.889 Training Loss: 0.065..  Training Acc: 0.983.. \n",
            "Epoch: 18/20..  Val Loss: 0.402..  Val Acc: 0.889 Training Loss: 0.242..  Training Acc: 0.941.. \n",
            "Epoch: 19/20..  Val Loss: 0.625..  Val Acc: 0.889 Training Loss: 0.051..  Training Acc: 0.983.. \n",
            "Epoch: 20/20..  Val Loss: 0.777..  Val Acc: 0.889 Training Loss: 0.048..  Training Acc: 0.982.. \n"
          ],
          "name": "stdout"
        }
      ]
    },
    {
      "cell_type": "markdown",
      "metadata": {
        "id": "6rpAS7FcqFVK"
      },
      "source": [
        "Now testing the model on the test dataset"
      ]
    },
    {
      "cell_type": "code",
      "metadata": {
        "id": "X4gmFwm5ld8m",
        "colab": {
          "base_uri": "https://localhost:8080/"
        },
        "outputId": "13d2743d-637c-4bcd-f4ce-307853780f4e"
      },
      "source": [
        "def test_accuracy(model, test_loader):\r\n",
        "\r\n",
        "    # Do validation on the test set\r\n",
        "    model.eval()\r\n",
        "    model.to('cuda')\r\n",
        "\r\n",
        "    with torch.no_grad():\r\n",
        "    \r\n",
        "        accuracy = 0\r\n",
        "        \r\n",
        "        i=0\r\n",
        "        for images, labels in iter(test_loader):\r\n",
        "            \r\n",
        "    \r\n",
        "            images, labels = images.to('cuda'), labels.to('cuda')\r\n",
        "    \r\n",
        "            output = model.forward(images)\r\n",
        "\r\n",
        "            probabilities = torch.exp(output)\r\n",
        "        \r\n",
        "            equality = (labels.data == probabilities.max(dim=1)[1])\r\n",
        "            #print(i)\r\n",
        "            #i= i+1\r\n",
        "            accuracy += equality.type(torch.FloatTensor).mean()\r\n",
        "        \r\n",
        "        print(\"Test Accuracy: {}\".format(accuracy/len(test_loader)))    \r\n",
        "        \r\n",
        "        \r\n",
        "test_accuracy(model, test_loader)"
      ],
      "execution_count": 16,
      "outputs": [
        {
          "output_type": "stream",
          "text": [
            "Test Accuracy: 0.8484209179878235\n"
          ],
          "name": "stdout"
        }
      ]
    },
    {
      "cell_type": "markdown",
      "metadata": {
        "id": "eIISbDYvp4bb"
      },
      "source": [
        "Saving the model weights, which can later be taken to test on any new images."
      ]
    },
    {
      "cell_type": "code",
      "metadata": {
        "id": "MGkSPtGGAdDs"
      },
      "source": [
        "def save_checkpoint(model):\r\n",
        "\r\n",
        "    model.class_to_idx = training_dataset.class_to_idx\r\n",
        "\r\n",
        "    checkpoint = {'arch': \"vgg16\",\r\n",
        "                  'class_to_idx': model.class_to_idx,\r\n",
        "                  'model_state_dict': model.state_dict()\r\n",
        "                 }\r\n",
        "\r\n",
        "    torch.save(checkpoint, 'checkpoint.pth')\r\n",
        "    \r\n",
        "save_checkpoint(model)   "
      ],
      "execution_count": 17,
      "outputs": []
    },
    {
      "cell_type": "markdown",
      "metadata": {
        "id": "SVWvQLxkkM2t"
      },
      "source": [
        "# Evaluation:\r\n",
        "\r\n",
        "It is always neccessary to evaluate the model, after it is trained and tested. Evaluation helps in application of any model in real time. To evaluate this model I am using confusion matrix."
      ]
    },
    {
      "cell_type": "code",
      "metadata": {
        "colab": {
          "base_uri": "https://localhost:8080/",
          "height": 477
        },
        "id": "dZNs-buXe6jj",
        "outputId": "d46ad5d3-f210-40f6-8726-a8ad45614b44"
      },
      "source": [
        "nb_classes = 3\r\n",
        "confusion_matrix = np.zeros((nb_classes, nb_classes))\r\n",
        "with torch.no_grad():\r\n",
        "    for i, (inputs, classes) in enumerate(test_loader):\r\n",
        "        inputs = inputs.to('cuda')\r\n",
        "        classes = classes.to('cuda')\r\n",
        "        outputs = model(inputs)\r\n",
        "        _, preds = torch.max(outputs, 1)\r\n",
        "        for t, p in zip(classes.view(-1), preds.view(-1)):\r\n",
        "                confusion_matrix[t.long(), p.long()] += 1\r\n",
        "\r\n",
        "plt.figure(figsize=(5,5))\r\n",
        "\r\n",
        "class_names = ['Carniolan_honey_bee','Russian_honey_bee','Italian_honey_bee']\r\n",
        "df_cm = pd.DataFrame(confusion_matrix, index=class_names, columns=class_names).astype(int)\r\n",
        "\r\n",
        "sn.set(font_scale=1.4) # for label size\r\n",
        "sn.heatmap(df_cm, annot=True, annot_kws={\"size\": 16}) # font size\r\n",
        "\r\n",
        "plt.show()\r\n",
        "\r\n",
        "\r\n"
      ],
      "execution_count": 36,
      "outputs": [
        {
          "output_type": "display_data",
          "data": {
            "image/png": "[encoded data removed]",
            "text/plain": [
              "<Figure size 360x360 with 2 Axes>"
            ]
          },
          "metadata": {
            "tags": []
          }
        }
      ]
    },
    {
      "cell_type": "code",
      "metadata": {
        "colab": {
          "base_uri": "https://localhost:8080/"
        },
        "id": "jkJO_At9flE2",
        "outputId": "6937f72c-f16b-4bb9-8748-ac90ff0424a2"
      },
      "source": [
        "# Per-class accuracy\r\n",
        "class_accuracy=100*conf_mat.diagonal()/conf_mat.sum(1)\r\n",
        "print(class_accuracy)"
      ],
      "execution_count": 37,
      "outputs": [
        {
          "output_type": "stream",
          "text": [
            "[87.16814159 83.98107469 87.86610879]\n"
          ],
          "name": "stdout"
        }
      ]
    },
    {
      "cell_type": "markdown",
      "metadata": {
        "id": "H5r3VJdlDmfI"
      },
      "source": [
        "Above are accuracy obtained on the each class."
      ]
    },
    {
      "cell_type": "code",
      "metadata": {
        "id": "14kzO58skKL1"
      },
      "source": [
        ""
      ],
      "execution_count": null,
      "outputs": []
    }
  ]
}